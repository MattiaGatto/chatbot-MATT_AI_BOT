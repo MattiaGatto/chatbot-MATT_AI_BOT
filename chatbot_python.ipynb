{
  "nbformat": 4,
  "nbformat_minor": 0,
  "metadata": {
    "colab": {
      "provenance": [],
      "authorship_tag": "ABX9TyPGYgT2W+dMnTOucafthOSa",
      "include_colab_link": true
    },
    "kernelspec": {
      "name": "python3",
      "display_name": "Python 3"
    },
    "language_info": {
      "name": "python"
    }
  },
  "cells": [
    {
      "cell_type": "markdown",
      "metadata": {
        "id": "view-in-github",
        "colab_type": "text"
      },
      "source": [
        "<a href=\"https://colab.research.google.com/github/MattiaGatto/chatbot-MATT_AI_BOT/blob/main/chatbot_python.ipynb\" target=\"_parent\"><img src=\"https://colab.research.google.com/assets/colab-badge.svg\" alt=\"Open In Colab\"/></a>"
      ]
    },
    {
      "cell_type": "markdown",
      "source": [
        "https://www.projectpro.io/article/python-chatbot-project-learn-to-build-a-chatbot-from-scratch/429\n"
      ],
      "metadata": {
        "id": "u4R4asWUMlP6"
      }
    },
    {
      "cell_type": "code",
      "source": [
        "#Mounting the Google Drive\n",
        "from google.colab import drive\n",
        "drive.mount('/content/drive')\n",
        "data_root='/content/drive/My Drive/project'\n",
        "#Please upload the files in your drive and change the path to it accordingly.\n",
        "\n",
        "#2 Importing Relevant Libraries\n",
        "import json\n",
        "import string\n",
        "import random\n",
        "import nltk\n",
        "import numpy as np\n",
        "from nltk.stem import WordNetLemmatizer\n",
        "import tensorflow as tf\n",
        "from tensorflow.keras import Sequential\n",
        "from tensorflow.keras.layers import Dense, Dropout\n",
        "nltk.download(\"punkt\")\n",
        "nltk.download(\"wordnet\")\n",
        "nltk.download('omw-1.4')\n",
        "!pip install googletrans==3.1.0a0\n",
        "# !pip install googletrans==4.0.0-rc1\n",
        "# !pip uninstall googletrans\n",
        "# !git clone https://github.com/alainrouillon/py-googletrans.git\n",
        "# !cd ./py-googletrans\n",
        "# !git checkout origin/feature/enhance-use-of-direct-api\n",
        "# !python setup.py install"
      ],
      "metadata": {
        "colab": {
          "base_uri": "https://localhost:8080/"
        },
        "id": "hYK1t5v8LHB_",
        "outputId": "e504acb3-102c-498f-90d8-b2e8aa7c3fff"
      },
      "execution_count": null,
      "outputs": [
        {
          "output_type": "stream",
          "name": "stdout",
          "text": [
            "Drive already mounted at /content/drive; to attempt to forcibly remount, call drive.mount(\"/content/drive\", force_remount=True).\n"
          ]
        },
        {
          "output_type": "stream",
          "name": "stderr",
          "text": [
            "[nltk_data] Downloading package punkt to /root/nltk_data...\n",
            "[nltk_data]   Package punkt is already up-to-date!\n",
            "[nltk_data] Downloading package wordnet to /root/nltk_data...\n",
            "[nltk_data]   Package wordnet is already up-to-date!\n",
            "[nltk_data] Downloading package omw-1.4 to /root/nltk_data...\n",
            "[nltk_data]   Package omw-1.4 is already up-to-date!\n"
          ]
        },
        {
          "output_type": "stream",
          "name": "stdout",
          "text": [
            "Looking in indexes: https://pypi.org/simple, https://us-python.pkg.dev/colab-wheels/public/simple/\n",
            "Requirement already satisfied: googletrans==3.1.0a0 in /usr/local/lib/python3.7/dist-packages (3.1.0a0)\n",
            "Requirement already satisfied: httpx==0.13.3 in /usr/local/lib/python3.7/dist-packages (from googletrans==3.1.0a0) (0.13.3)\n",
            "Requirement already satisfied: certifi in /usr/local/lib/python3.7/dist-packages (from httpx==0.13.3->googletrans==3.1.0a0) (2022.9.24)\n",
            "Requirement already satisfied: httpcore==0.9.* in /usr/local/lib/python3.7/dist-packages (from httpx==0.13.3->googletrans==3.1.0a0) (0.9.1)\n",
            "Requirement already satisfied: sniffio in /usr/local/lib/python3.7/dist-packages (from httpx==0.13.3->googletrans==3.1.0a0) (1.3.0)\n",
            "Requirement already satisfied: chardet==3.* in /usr/local/lib/python3.7/dist-packages (from httpx==0.13.3->googletrans==3.1.0a0) (3.0.4)\n",
            "Requirement already satisfied: idna==2.* in /usr/local/lib/python3.7/dist-packages (from httpx==0.13.3->googletrans==3.1.0a0) (2.10)\n",
            "Requirement already satisfied: rfc3986<2,>=1.3 in /usr/local/lib/python3.7/dist-packages (from httpx==0.13.3->googletrans==3.1.0a0) (1.5.0)\n",
            "Requirement already satisfied: hstspreload in /usr/local/lib/python3.7/dist-packages (from httpx==0.13.3->googletrans==3.1.0a0) (2022.10.1)\n",
            "Requirement already satisfied: h2==3.* in /usr/local/lib/python3.7/dist-packages (from httpcore==0.9.*->httpx==0.13.3->googletrans==3.1.0a0) (3.2.0)\n",
            "Requirement already satisfied: h11<0.10,>=0.8 in /usr/local/lib/python3.7/dist-packages (from httpcore==0.9.*->httpx==0.13.3->googletrans==3.1.0a0) (0.9.0)\n",
            "Requirement already satisfied: hyperframe<6,>=5.2.0 in /usr/local/lib/python3.7/dist-packages (from h2==3.*->httpcore==0.9.*->httpx==0.13.3->googletrans==3.1.0a0) (5.2.0)\n",
            "Requirement already satisfied: hpack<4,>=3.0 in /usr/local/lib/python3.7/dist-packages (from h2==3.*->httpcore==0.9.*->httpx==0.13.3->googletrans==3.1.0a0) (3.0.0)\n"
          ]
        }
      ]
    },
    {
      "cell_type": "code",
      "source": [
        "data_root + '/Dataset/intents.json'"
      ],
      "metadata": {
        "colab": {
          "base_uri": "https://localhost:8080/",
          "height": 36
        },
        "id": "JTnAJ57XOyrX",
        "outputId": "6e62f6c3-291e-4100-eb34-66a63cf95b4c"
      },
      "execution_count": null,
      "outputs": [
        {
          "output_type": "execute_result",
          "data": {
            "text/plain": [
              "'/content/drive/My Drive/project/Dataset/intents.json'"
            ],
            "application/vnd.google.colaboratory.intrinsic+json": {
              "type": "string"
            }
          },
          "metadata": {},
          "execution_count": 2
        }
      ]
    },
    {
      "cell_type": "code",
      "source": [
        "#Loading the Dataset: intents.json \n",
        "data_file =  open(data_root + '/Dataset/intents.json').read()\n",
        "data= json.loads(data_file)"
      ],
      "metadata": {
        "id": "TmGf0CppJWIM"
      },
      "execution_count": null,
      "outputs": []
    },
    {
      "cell_type": "code",
      "source": [
        "import googletrans\n",
        "from googletrans import Translator\n",
        "translator = Translator()\n",
        "translator.translate('Hi',dest='it',src='en').text"
      ],
      "metadata": {
        "colab": {
          "base_uri": "https://localhost:8080/",
          "height": 36
        },
        "id": "YsHbW_1OgRVE",
        "outputId": "4ce68804-f31e-4489-e02f-83a92ca35998"
      },
      "execution_count": null,
      "outputs": [
        {
          "output_type": "execute_result",
          "data": {
            "text/plain": [
              "'Ciao'"
            ],
            "application/vnd.google.colaboratory.intrinsic+json": {
              "type": "string"
            }
          },
          "metadata": {},
          "execution_count": 17
        }
      ]
    },
    {
      "cell_type": "code",
      "source": [
        "# import pandas as pd\n",
        "# data_plus = pd.read_csv(data_root + '/Dataset/txt.txt', sep='\\t', encoding = 'ISO-8859-1')\n",
        "# # data_plus.info()\n",
        "# data_plus=data_plus[['ArticleTitle','Question','Answer']]\n",
        "# questions=[]\n",
        "# response=[]\n",
        "# tag=[]\n",
        "# contest=''\n",
        "# d={\"\":{\"patterns\":[],\"responses\":[]}}\n",
        "\n",
        "# for i in range(len(data_plus)):\n",
        "  \n",
        "#   trans_0=''\n",
        "#   try:\n",
        "#     trans_0=translator.translate(str(data_plus.iloc[i,0]),dest='it',src='en').text\n",
        "#   except:\n",
        "#     continue\n",
        "#   if (trans_0 not in d):\n",
        "#      d[trans_0]={\"patterns\":[],\"responses\":[]}\n",
        "  \n",
        "#   trans_1=''\n",
        "#   try:\n",
        "#     trans_1=translator.translate(str(data_plus.iloc[i,1]),dest='it',src='en').text\n",
        "#     d[trans_0][\"patterns\"].append(trans_1)\n",
        "#   except:\n",
        "#     continue\n",
        "  \n",
        "#   trans_2=''\n",
        "#   try:\n",
        "#     trans_2=translator.translate(str(data_plus.iloc[i,2]),dest='it',src='en').text\n",
        "#     d[trans_0][\"responses\"].append(trans_2)\n",
        "#   except:\n",
        "#     continue\n",
        "#   perc=round((i/len(data_plus))*100)\n",
        "#   if perc==10 or perc==20 or perc==30 or perc==40 or perc==50 or perc==60 or perc==70 or perc==80 or perc==90 or perc==100:\n",
        "#     print(perc,\"%\")\n",
        "# d"
      ],
      "metadata": {
        "id": "2ODRuC0fMivQ"
      },
      "execution_count": null,
      "outputs": []
    },
    {
      "cell_type": "code",
      "source": [
        "# d['Zebra']['patterns'][0]"
      ],
      "metadata": {
        "id": "GV7kzN2PyJI2"
      },
      "execution_count": null,
      "outputs": []
    },
    {
      "cell_type": "code",
      "source": [
        "# i=0\n",
        "# for intents in d:\n",
        "#   structure={'context': intents,\n",
        "#             'patterns': d[intents]['patterns'],\n",
        "#             'responses': d[intents]['responses'],\n",
        "#             'tag': intents}\n",
        "  \n",
        "#   data['intents'].append(structure)\n",
        "#   i+=1 \n",
        "# len(data['intents'])         "
      ],
      "metadata": {
        "id": "4Lfi1mHAvX-a"
      },
      "execution_count": null,
      "outputs": []
    },
    {
      "cell_type": "code",
      "source": [
        "data"
      ],
      "metadata": {
        "colab": {
          "base_uri": "https://localhost:8080/"
        },
        "id": "1km4XZsyVv3g",
        "outputId": "d9057c10-19e1-4f8a-cf50-57fef1f1912c"
      },
      "execution_count": null,
      "outputs": [
        {
          "output_type": "execute_result",
          "data": {
            "text/plain": [
              "{'intents': [{'context': [],\n",
              "   'patterns': ['Ciao', 'Buon giorno!', 'Che cosa succede?'],\n",
              "   'responses': ['Hey!', 'Ciao!', 'Salve!', 'Buon giorno!'],\n",
              "   'tag': 'ciao'},\n",
              "  {'context': '',\n",
              "   'patterns': [],\n",
              "   'responses': ['Scusa, non riesco a capirti',\n",
              "    'Per favore dammi più informazioni',\n",
              "    'Non sono sicuro di aver capito'],\n",
              "   'tag': 'nessuna risposta'},\n",
              "  {'context': '',\n",
              "   'patterns': ['Qual è il tuo lavoro?',\n",
              "    'Che lavoro fai?',\n",
              "    'Di cosa ti occupi?'],\n",
              "   'responses': ['Il mio lavoro è farti sentire che tutto va bene.',\n",
              "    'Lavoro per servirti nel miglior modo possibile'],\n",
              "   'tag': 'lavoro'},\n",
              "  {'context': [''],\n",
              "   'patterns': ['Qual è la tua età?', 'Quanti anni hai?', 'Quando sei nato?'],\n",
              "   'responses': ['Sono una Matt_AI e sono nato nel 2022!🔝'],\n",
              "   'tag': 'età'}]}"
            ]
          },
          "metadata": {},
          "execution_count": 21
        }
      ]
    },
    {
      "cell_type": "code",
      "source": [
        "#4 Creating data_X and data_Y\n",
        "words = [] #For Bow model/ vocabulary for patterns\n",
        "classes = [] #For Bow model/ vocabulary for tags \n",
        "data_X = [] #For storing each pattern\n",
        "data_y = [] #For storing tag corresponding to each pattern in data_X\n",
        "# Iterating over all the intents\n",
        "for intent in data[\"intents\"]:\n",
        "  for pattern in intent[\"patterns\"]:\n",
        "    tokens = nltk.word_tokenize(pattern) # tokenize each pattern\n",
        "    words.extend(tokens) #and append tokens to words \n",
        "    data_y.append(intent[\"tag\"]),# appending the associated tag to each pattern\n",
        "    data_X.append(pattern) #appending pattern to data_X\n",
        "  # adding the tag to the classes if it's not there already\n",
        "  if intent[\"tag\"] not in classes:\n",
        "    classes.append(intent[\"tag\"])\n",
        "#initializing lemmatizer to get stem of words\n",
        "lemmatizer=WordNetLemmatizer()\n",
        "#lemmatize all the words in the vocab and convert them to lowercase\n",
        "# if the words don't appear in punctuation\n",
        "words = [lemmatizer.lemmatize (word. lower()) for word in words if word not in string.punctuation] #sorting the vocab and classes in alphabetical order and taking the # set to ensure no duplicates occur\n",
        "words = sorted(set(words))\n",
        "classes = sorted(set(classes))"
      ],
      "metadata": {
        "id": "7BH2jhvaJXKG"
      },
      "execution_count": null,
      "outputs": []
    },
    {
      "cell_type": "code",
      "source": [
        "#5 Text to Numbers\n",
        "training=[]\n",
        "out_empty=[0]*len(classes)\n",
        "# creating the bag of words model\n",
        "for idx, doc in enumerate(data_X):\n",
        "  bow = []\n",
        "  text = lemmatizer.lemmatize(doc.lower())\n",
        "  for word in words:\n",
        "    bow.append(1) if word in text else bow.append(0)\n",
        "  # mark the index of class that the current pattern is associated\n",
        "  # to\n",
        "  output_row = list(out_empty)\n",
        "  output_row[classes.index(data_y[idx])] = 1\n",
        "  # add the one hot encoded Bow and associated classes to training\n",
        "  training.append([bow, output_row])\n",
        "  \n",
        "#shuffle the data and convert it to an array\n",
        "random.shuffle(training)\n",
        "training = np.array(training, dtype=object)\n",
        "# split the features and target labels\n",
        "train_X = np.array(list(training[:, 0]))\n",
        "train_Y= np.array(list (training[:, 1]))"
      ],
      "metadata": {
        "id": "X_XyT_3cPHal"
      },
      "execution_count": null,
      "outputs": []
    },
    {
      "cell_type": "code",
      "source": [
        "#6 The Neural Network Model\n",
        "model= Sequential() \n",
        "model.add(Dense (128, input_shape=(len(train_X[0]),), activation=\"relu\"))\n",
        "model.add(Dropout (0.5))\n",
        "model.add(Dense(64, activation=\"relu\"))\n",
        "model.add(Dropout (0.5))\n",
        "model.add(Dense(len(train_Y[0]), activation=\"softmax\")) \n",
        "\n",
        "adam =tf.keras.optimizers.Adam(learning_rate=0.01, decay=1e-6)\n",
        "model.compile(loss=\"categorical_crossentropy\",\n",
        "      optimizer=adam,\n",
        "      metrics=[\"accuracy\"])\n",
        "print(model.summary())\n",
        "model.fit(x=train_X, y=train_Y, epochs=150, verbose=1)"
      ],
      "metadata": {
        "colab": {
          "base_uri": "https://localhost:8080/"
        },
        "id": "jo3N3TNsQCvC",
        "outputId": "f05cf16b-8058-4d67-d94e-cc2b03f86d9a"
      },
      "execution_count": null,
      "outputs": [
        {
          "output_type": "stream",
          "name": "stdout",
          "text": [
            "Model: \"sequential_1\"\n",
            "_________________________________________________________________\n",
            " Layer (type)                Output Shape              Param #   \n",
            "=================================================================\n",
            " dense_3 (Dense)             (None, 128)               3200      \n",
            "                                                                 \n",
            " dropout_2 (Dropout)         (None, 128)               0         \n",
            "                                                                 \n",
            " dense_4 (Dense)             (None, 64)                8256      \n",
            "                                                                 \n",
            " dropout_3 (Dropout)         (None, 64)                0         \n",
            "                                                                 \n",
            " dense_5 (Dense)             (None, 4)                 260       \n",
            "                                                                 \n",
            "=================================================================\n",
            "Total params: 11,716\n",
            "Trainable params: 11,716\n",
            "Non-trainable params: 0\n",
            "_________________________________________________________________\n",
            "None\n",
            "Epoch 1/150\n",
            "1/1 [==============================] - 1s 570ms/step - loss: 1.2900 - accuracy: 0.4444\n",
            "Epoch 2/150\n",
            "1/1 [==============================] - 0s 10ms/step - loss: 1.2388 - accuracy: 0.3333\n",
            "Epoch 3/150\n",
            "1/1 [==============================] - 0s 9ms/step - loss: 1.1492 - accuracy: 0.5556\n",
            "Epoch 4/150\n",
            "1/1 [==============================] - 0s 7ms/step - loss: 0.9540 - accuracy: 0.4444\n",
            "Epoch 5/150\n",
            "1/1 [==============================] - 0s 8ms/step - loss: 0.8995 - accuracy: 0.6667\n",
            "Epoch 6/150\n",
            "1/1 [==============================] - 0s 7ms/step - loss: 0.7904 - accuracy: 0.7778\n",
            "Epoch 7/150\n",
            "1/1 [==============================] - 0s 9ms/step - loss: 0.7131 - accuracy: 1.0000\n",
            "Epoch 8/150\n",
            "1/1 [==============================] - 0s 8ms/step - loss: 0.6782 - accuracy: 0.7778\n",
            "Epoch 9/150\n",
            "1/1 [==============================] - 0s 10ms/step - loss: 0.3951 - accuracy: 1.0000\n",
            "Epoch 10/150\n",
            "1/1 [==============================] - 0s 9ms/step - loss: 0.4926 - accuracy: 1.0000\n",
            "Epoch 11/150\n",
            "1/1 [==============================] - 0s 8ms/step - loss: 0.4355 - accuracy: 0.7778\n",
            "Epoch 12/150\n",
            "1/1 [==============================] - 0s 9ms/step - loss: 0.5824 - accuracy: 0.7778\n",
            "Epoch 13/150\n",
            "1/1 [==============================] - 0s 9ms/step - loss: 0.2525 - accuracy: 0.8889\n",
            "Epoch 14/150\n",
            "1/1 [==============================] - 0s 10ms/step - loss: 0.1964 - accuracy: 1.0000\n",
            "Epoch 15/150\n",
            "1/1 [==============================] - 0s 11ms/step - loss: 0.2145 - accuracy: 1.0000\n",
            "Epoch 16/150\n",
            "1/1 [==============================] - 0s 10ms/step - loss: 0.0645 - accuracy: 1.0000\n",
            "Epoch 17/150\n",
            "1/1 [==============================] - 0s 11ms/step - loss: 0.1325 - accuracy: 1.0000\n",
            "Epoch 18/150\n",
            "1/1 [==============================] - 0s 10ms/step - loss: 0.0546 - accuracy: 1.0000\n",
            "Epoch 19/150\n",
            "1/1 [==============================] - 0s 8ms/step - loss: 0.1201 - accuracy: 1.0000\n",
            "Epoch 20/150\n",
            "1/1 [==============================] - 0s 8ms/step - loss: 0.0667 - accuracy: 1.0000\n",
            "Epoch 21/150\n",
            "1/1 [==============================] - 0s 9ms/step - loss: 0.0243 - accuracy: 1.0000\n",
            "Epoch 22/150\n",
            "1/1 [==============================] - 0s 8ms/step - loss: 0.0531 - accuracy: 1.0000\n",
            "Epoch 23/150\n",
            "1/1 [==============================] - 0s 9ms/step - loss: 0.0621 - accuracy: 1.0000\n",
            "Epoch 24/150\n",
            "1/1 [==============================] - 0s 10ms/step - loss: 0.0240 - accuracy: 1.0000\n",
            "Epoch 25/150\n",
            "1/1 [==============================] - 0s 12ms/step - loss: 0.0296 - accuracy: 1.0000\n",
            "Epoch 26/150\n",
            "1/1 [==============================] - 0s 9ms/step - loss: 0.0078 - accuracy: 1.0000\n",
            "Epoch 27/150\n",
            "1/1 [==============================] - 0s 11ms/step - loss: 0.0120 - accuracy: 1.0000\n",
            "Epoch 28/150\n",
            "1/1 [==============================] - 0s 10ms/step - loss: 0.0161 - accuracy: 1.0000\n",
            "Epoch 29/150\n",
            "1/1 [==============================] - 0s 8ms/step - loss: 0.0045 - accuracy: 1.0000\n",
            "Epoch 30/150\n",
            "1/1 [==============================] - 0s 10ms/step - loss: 0.0032 - accuracy: 1.0000\n",
            "Epoch 31/150\n",
            "1/1 [==============================] - 0s 8ms/step - loss: 6.8165e-04 - accuracy: 1.0000\n",
            "Epoch 32/150\n",
            "1/1 [==============================] - 0s 9ms/step - loss: 0.0224 - accuracy: 1.0000\n",
            "Epoch 33/150\n",
            "1/1 [==============================] - 0s 10ms/step - loss: 7.6717e-04 - accuracy: 1.0000\n",
            "Epoch 34/150\n",
            "1/1 [==============================] - 0s 9ms/step - loss: 0.0014 - accuracy: 1.0000\n",
            "Epoch 35/150\n",
            "1/1 [==============================] - 0s 9ms/step - loss: 0.0069 - accuracy: 1.0000\n",
            "Epoch 36/150\n",
            "1/1 [==============================] - 0s 8ms/step - loss: 0.0014 - accuracy: 1.0000\n",
            "Epoch 37/150\n",
            "1/1 [==============================] - 0s 9ms/step - loss: 0.0045 - accuracy: 1.0000\n",
            "Epoch 38/150\n",
            "1/1 [==============================] - 0s 10ms/step - loss: 9.3414e-04 - accuracy: 1.0000\n",
            "Epoch 39/150\n",
            "1/1 [==============================] - 0s 9ms/step - loss: 0.0028 - accuracy: 1.0000\n",
            "Epoch 40/150\n",
            "1/1 [==============================] - 0s 9ms/step - loss: 6.7518e-04 - accuracy: 1.0000\n",
            "Epoch 41/150\n",
            "1/1 [==============================] - 0s 10ms/step - loss: 9.6967e-04 - accuracy: 1.0000\n",
            "Epoch 42/150\n",
            "1/1 [==============================] - 0s 8ms/step - loss: 0.0050 - accuracy: 1.0000\n",
            "Epoch 43/150\n",
            "1/1 [==============================] - 0s 8ms/step - loss: 0.0181 - accuracy: 1.0000\n",
            "Epoch 44/150\n",
            "1/1 [==============================] - 0s 8ms/step - loss: 1.0707e-04 - accuracy: 1.0000\n",
            "Epoch 45/150\n",
            "1/1 [==============================] - 0s 10ms/step - loss: 0.0397 - accuracy: 1.0000\n",
            "Epoch 46/150\n",
            "1/1 [==============================] - 0s 8ms/step - loss: 6.3030e-04 - accuracy: 1.0000\n",
            "Epoch 47/150\n",
            "1/1 [==============================] - 0s 10ms/step - loss: 0.0018 - accuracy: 1.0000\n",
            "Epoch 48/150\n",
            "1/1 [==============================] - 0s 8ms/step - loss: 3.3179e-04 - accuracy: 1.0000\n",
            "Epoch 49/150\n",
            "1/1 [==============================] - 0s 10ms/step - loss: 1.6018e-04 - accuracy: 1.0000\n",
            "Epoch 50/150\n",
            "1/1 [==============================] - 0s 8ms/step - loss: 0.0011 - accuracy: 1.0000\n",
            "Epoch 51/150\n",
            "1/1 [==============================] - 0s 8ms/step - loss: 7.4527e-04 - accuracy: 1.0000\n",
            "Epoch 52/150\n",
            "1/1 [==============================] - 0s 11ms/step - loss: 2.7956e-04 - accuracy: 1.0000\n",
            "Epoch 53/150\n",
            "1/1 [==============================] - 0s 15ms/step - loss: 0.0076 - accuracy: 1.0000\n",
            "Epoch 54/150\n",
            "1/1 [==============================] - 0s 10ms/step - loss: 2.6265e-05 - accuracy: 1.0000\n",
            "Epoch 55/150\n",
            "1/1 [==============================] - 0s 9ms/step - loss: 1.1280e-04 - accuracy: 1.0000\n",
            "Epoch 56/150\n",
            "1/1 [==============================] - 0s 8ms/step - loss: 1.1239e-04 - accuracy: 1.0000\n",
            "Epoch 57/150\n",
            "1/1 [==============================] - 0s 9ms/step - loss: 0.0014 - accuracy: 1.0000\n",
            "Epoch 58/150\n",
            "1/1 [==============================] - 0s 12ms/step - loss: 5.4968e-06 - accuracy: 1.0000\n",
            "Epoch 59/150\n",
            "1/1 [==============================] - 0s 7ms/step - loss: 0.0013 - accuracy: 1.0000\n",
            "Epoch 60/150\n",
            "1/1 [==============================] - 0s 8ms/step - loss: 2.0728e-05 - accuracy: 1.0000\n",
            "Epoch 61/150\n",
            "1/1 [==============================] - 0s 8ms/step - loss: 0.0011 - accuracy: 1.0000\n",
            "Epoch 62/150\n",
            "1/1 [==============================] - 0s 11ms/step - loss: 2.6303e-04 - accuracy: 1.0000\n",
            "Epoch 63/150\n",
            "1/1 [==============================] - 0s 9ms/step - loss: 0.0040 - accuracy: 1.0000\n",
            "Epoch 64/150\n",
            "1/1 [==============================] - 0s 10ms/step - loss: 6.5166e-06 - accuracy: 1.0000\n",
            "Epoch 65/150\n",
            "1/1 [==============================] - 0s 8ms/step - loss: 4.3897e-04 - accuracy: 1.0000\n",
            "Epoch 66/150\n",
            "1/1 [==============================] - 0s 7ms/step - loss: 8.4772e-04 - accuracy: 1.0000\n",
            "Epoch 67/150\n",
            "1/1 [==============================] - 0s 10ms/step - loss: 0.0024 - accuracy: 1.0000\n",
            "Epoch 68/150\n",
            "1/1 [==============================] - 0s 7ms/step - loss: 0.0182 - accuracy: 1.0000\n",
            "Epoch 69/150\n",
            "1/1 [==============================] - 0s 8ms/step - loss: 7.5012e-05 - accuracy: 1.0000\n",
            "Epoch 70/150\n",
            "1/1 [==============================] - 0s 16ms/step - loss: 3.4488e-05 - accuracy: 1.0000\n",
            "Epoch 71/150\n",
            "1/1 [==============================] - 0s 13ms/step - loss: 0.0042 - accuracy: 1.0000\n",
            "Epoch 72/150\n",
            "1/1 [==============================] - 0s 8ms/step - loss: 4.1770e-04 - accuracy: 1.0000\n",
            "Epoch 73/150\n",
            "1/1 [==============================] - 0s 9ms/step - loss: 2.9641e-05 - accuracy: 1.0000\n",
            "Epoch 74/150\n",
            "1/1 [==============================] - 0s 8ms/step - loss: 0.0365 - accuracy: 1.0000\n",
            "Epoch 75/150\n",
            "1/1 [==============================] - 0s 10ms/step - loss: 3.7260e-04 - accuracy: 1.0000\n",
            "Epoch 76/150\n",
            "1/1 [==============================] - 0s 11ms/step - loss: 6.9302e-05 - accuracy: 1.0000\n",
            "Epoch 77/150\n",
            "1/1 [==============================] - 0s 8ms/step - loss: 0.0013 - accuracy: 1.0000\n",
            "Epoch 78/150\n",
            "1/1 [==============================] - 0s 8ms/step - loss: 2.1786e-04 - accuracy: 1.0000\n",
            "Epoch 79/150\n",
            "1/1 [==============================] - 0s 8ms/step - loss: 1.7362e-04 - accuracy: 1.0000\n",
            "Epoch 80/150\n",
            "1/1 [==============================] - 0s 10ms/step - loss: 0.0010 - accuracy: 1.0000\n",
            "Epoch 81/150\n",
            "1/1 [==============================] - 0s 8ms/step - loss: 7.0572e-05 - accuracy: 1.0000\n",
            "Epoch 82/150\n",
            "1/1 [==============================] - 0s 10ms/step - loss: 3.4835e-06 - accuracy: 1.0000\n",
            "Epoch 83/150\n",
            "1/1 [==============================] - 0s 10ms/step - loss: 3.7717e-05 - accuracy: 1.0000\n",
            "Epoch 84/150\n",
            "1/1 [==============================] - 0s 11ms/step - loss: 4.4272e-04 - accuracy: 1.0000\n",
            "Epoch 85/150\n",
            "1/1 [==============================] - 0s 8ms/step - loss: 8.5403e-04 - accuracy: 1.0000\n",
            "Epoch 86/150\n",
            "1/1 [==============================] - 0s 7ms/step - loss: 7.6293e-06 - accuracy: 1.0000\n",
            "Epoch 87/150\n",
            "1/1 [==============================] - 0s 8ms/step - loss: 0.1477 - accuracy: 0.8889\n",
            "Epoch 88/150\n",
            "1/1 [==============================] - 0s 10ms/step - loss: 0.0021 - accuracy: 1.0000\n",
            "Epoch 89/150\n",
            "1/1 [==============================] - 0s 8ms/step - loss: 4.1665e-04 - accuracy: 1.0000\n",
            "Epoch 90/150\n",
            "1/1 [==============================] - 0s 8ms/step - loss: 2.0548e-04 - accuracy: 1.0000\n",
            "Epoch 91/150\n",
            "1/1 [==============================] - 0s 9ms/step - loss: 0.0074 - accuracy: 1.0000\n",
            "Epoch 92/150\n",
            "1/1 [==============================] - 0s 8ms/step - loss: 1.6574e-04 - accuracy: 1.0000\n",
            "Epoch 93/150\n",
            "1/1 [==============================] - 0s 8ms/step - loss: 1.3417e-05 - accuracy: 1.0000\n",
            "Epoch 94/150\n",
            "1/1 [==============================] - 0s 10ms/step - loss: 0.0114 - accuracy: 1.0000\n",
            "Epoch 95/150\n",
            "1/1 [==============================] - 0s 10ms/step - loss: 2.6440e-04 - accuracy: 1.0000\n",
            "Epoch 96/150\n",
            "1/1 [==============================] - 0s 8ms/step - loss: 0.0114 - accuracy: 1.0000\n",
            "Epoch 97/150\n",
            "1/1 [==============================] - 0s 10ms/step - loss: 4.8566e-04 - accuracy: 1.0000\n",
            "Epoch 98/150\n",
            "1/1 [==============================] - 0s 10ms/step - loss: 1.5894e-05 - accuracy: 1.0000\n",
            "Epoch 99/150\n",
            "1/1 [==============================] - 0s 9ms/step - loss: 7.8640e-04 - accuracy: 1.0000\n",
            "Epoch 100/150\n",
            "1/1 [==============================] - 0s 9ms/step - loss: 4.6724e-05 - accuracy: 1.0000\n",
            "Epoch 101/150\n",
            "1/1 [==============================] - 0s 8ms/step - loss: 1.2265e-05 - accuracy: 1.0000\n",
            "Epoch 102/150\n",
            "1/1 [==============================] - 0s 8ms/step - loss: 7.5791e-04 - accuracy: 1.0000\n",
            "Epoch 103/150\n",
            "1/1 [==============================] - 0s 14ms/step - loss: 2.5056e-04 - accuracy: 1.0000\n",
            "Epoch 104/150\n",
            "1/1 [==============================] - 0s 8ms/step - loss: 0.0018 - accuracy: 1.0000\n",
            "Epoch 105/150\n",
            "1/1 [==============================] - 0s 8ms/step - loss: 2.0658e-04 - accuracy: 1.0000\n",
            "Epoch 106/150\n",
            "1/1 [==============================] - 0s 17ms/step - loss: 0.0168 - accuracy: 1.0000\n",
            "Epoch 107/150\n",
            "1/1 [==============================] - 0s 8ms/step - loss: 8.2963e-05 - accuracy: 1.0000\n",
            "Epoch 108/150\n",
            "1/1 [==============================] - 0s 8ms/step - loss: 4.1176e-05 - accuracy: 1.0000\n",
            "Epoch 109/150\n",
            "1/1 [==============================] - 0s 10ms/step - loss: 1.4967e-06 - accuracy: 1.0000\n",
            "Epoch 110/150\n",
            "1/1 [==============================] - 0s 7ms/step - loss: 3.8061e-05 - accuracy: 1.0000\n",
            "Epoch 111/150\n",
            "1/1 [==============================] - 0s 9ms/step - loss: 5.1951e-04 - accuracy: 1.0000\n",
            "Epoch 112/150\n",
            "1/1 [==============================] - 0s 11ms/step - loss: 3.5626e-04 - accuracy: 1.0000\n",
            "Epoch 113/150\n",
            "1/1 [==============================] - 0s 8ms/step - loss: 6.1138e-05 - accuracy: 1.0000\n",
            "Epoch 114/150\n",
            "1/1 [==============================] - 0s 9ms/step - loss: 3.6063e-04 - accuracy: 1.0000\n",
            "Epoch 115/150\n",
            "1/1 [==============================] - 0s 8ms/step - loss: 3.6221e-05 - accuracy: 1.0000\n",
            "Epoch 116/150\n",
            "1/1 [==============================] - 0s 9ms/step - loss: 1.5630e-06 - accuracy: 1.0000\n",
            "Epoch 117/150\n",
            "1/1 [==============================] - 0s 8ms/step - loss: 1.7258e-05 - accuracy: 1.0000\n",
            "Epoch 118/150\n",
            "1/1 [==============================] - 0s 11ms/step - loss: 3.2011e-05 - accuracy: 1.0000\n",
            "Epoch 119/150\n",
            "1/1 [==============================] - 0s 9ms/step - loss: 0.0010 - accuracy: 1.0000\n",
            "Epoch 120/150\n",
            "1/1 [==============================] - 0s 9ms/step - loss: 1.1470e-05 - accuracy: 1.0000\n",
            "Epoch 121/150\n",
            "1/1 [==============================] - 0s 9ms/step - loss: 5.4496e-04 - accuracy: 1.0000\n",
            "Epoch 122/150\n",
            "1/1 [==============================] - 0s 11ms/step - loss: 1.6463e-05 - accuracy: 1.0000\n",
            "Epoch 123/150\n",
            "1/1 [==============================] - 0s 10ms/step - loss: 4.8984e-05 - accuracy: 1.0000\n",
            "Epoch 124/150\n",
            "1/1 [==============================] - 0s 9ms/step - loss: 2.0408e-04 - accuracy: 1.0000\n",
            "Epoch 125/150\n",
            "1/1 [==============================] - 0s 8ms/step - loss: 3.8676e-06 - accuracy: 1.0000\n",
            "Epoch 126/150\n",
            "1/1 [==============================] - 0s 9ms/step - loss: 0.0019 - accuracy: 1.0000\n",
            "Epoch 127/150\n",
            "1/1 [==============================] - 0s 9ms/step - loss: 0.0043 - accuracy: 1.0000\n",
            "Epoch 128/150\n",
            "1/1 [==============================] - 0s 10ms/step - loss: 5.7011e-04 - accuracy: 1.0000\n",
            "Epoch 129/150\n",
            "1/1 [==============================] - 0s 8ms/step - loss: 9.8309e-04 - accuracy: 1.0000\n",
            "Epoch 130/150\n",
            "1/1 [==============================] - 0s 8ms/step - loss: 0.0018 - accuracy: 1.0000\n",
            "Epoch 131/150\n",
            "1/1 [==============================] - 0s 9ms/step - loss: 8.7154e-06 - accuracy: 1.0000\n",
            "Epoch 132/150\n",
            "1/1 [==============================] - 0s 8ms/step - loss: 3.1789e-07 - accuracy: 1.0000\n",
            "Epoch 133/150\n",
            "1/1 [==============================] - 0s 9ms/step - loss: 9.5164e-04 - accuracy: 1.0000\n",
            "Epoch 134/150\n",
            "1/1 [==============================] - 0s 9ms/step - loss: 8.9679e-05 - accuracy: 1.0000\n",
            "Epoch 135/150\n",
            "1/1 [==============================] - 0s 10ms/step - loss: 2.2517e-07 - accuracy: 1.0000\n",
            "Epoch 136/150\n",
            "1/1 [==============================] - 0s 9ms/step - loss: 8.3048e-06 - accuracy: 1.0000\n",
            "Epoch 137/150\n",
            "1/1 [==============================] - 0s 9ms/step - loss: 0.0024 - accuracy: 1.0000\n",
            "Epoch 138/150\n",
            "1/1 [==============================] - 0s 9ms/step - loss: 1.3510e-06 - accuracy: 1.0000\n",
            "Epoch 139/150\n",
            "1/1 [==============================] - 0s 9ms/step - loss: 2.4661e-05 - accuracy: 1.0000\n",
            "Epoch 140/150\n",
            "1/1 [==============================] - 0s 9ms/step - loss: 1.6403e-04 - accuracy: 1.0000\n",
            "Epoch 141/150\n",
            "1/1 [==============================] - 0s 9ms/step - loss: 3.1430e-05 - accuracy: 1.0000\n",
            "Epoch 142/150\n",
            "1/1 [==============================] - 0s 8ms/step - loss: 1.3309e-04 - accuracy: 1.0000\n",
            "Epoch 143/150\n",
            "1/1 [==============================] - 0s 9ms/step - loss: 1.0644e-04 - accuracy: 1.0000\n",
            "Epoch 144/150\n",
            "1/1 [==============================] - 0s 9ms/step - loss: 4.3026e-04 - accuracy: 1.0000\n",
            "Epoch 145/150\n",
            "1/1 [==============================] - 0s 9ms/step - loss: 2.1709e-05 - accuracy: 1.0000\n",
            "Epoch 146/150\n",
            "1/1 [==============================] - 0s 9ms/step - loss: 1.7056e-04 - accuracy: 1.0000\n",
            "Epoch 147/150\n",
            "1/1 [==============================] - 0s 8ms/step - loss: 8.5432e-06 - accuracy: 1.0000\n",
            "Epoch 148/150\n",
            "1/1 [==============================] - 0s 8ms/step - loss: 7.6804e-05 - accuracy: 1.0000\n",
            "Epoch 149/150\n",
            "1/1 [==============================] - 0s 8ms/step - loss: 2.1188e-04 - accuracy: 1.0000\n",
            "Epoch 150/150\n",
            "1/1 [==============================] - 0s 8ms/step - loss: 2.5166e-07 - accuracy: 1.0000\n"
          ]
        },
        {
          "output_type": "execute_result",
          "data": {
            "text/plain": [
              "<keras.callbacks.History at 0x7fd1ea883650>"
            ]
          },
          "metadata": {},
          "execution_count": 24
        }
      ]
    },
    {
      "cell_type": "code",
      "source": [
        "#7 Preprocessing the Input\n",
        "def clean_text(text):\n",
        "  tokens= nltk.word_tokenize (text) \n",
        "  tokens = [lemmatizer.lemmatize (word) for word in tokens]\n",
        "  return tokens\n",
        "def bag_of_words (text, vocab):\n",
        "  tokens = clean_text(text)\n",
        "  bow = [0]*len (vocab)\n",
        "  for w in tokens:\n",
        "    for idx, word in enumerate (vocab):\n",
        "      if word == w:\n",
        "        bow[idx] = 1\n",
        "  return np.array (bow)\n",
        "def pred_class(text, vocab, labels):\n",
        "  bow = bag_of_words (text, vocab)\n",
        "  result = model.predict(np.array([bow])) [0] #Extracting probabilities\n",
        "  thresh = 0.5\n",
        "  y_pred = [[indx, res] for indx, res in enumerate (result) if res > thresh]\n",
        "  y_pred.sort(key=lambda x: x[1], reverse=True) #Sorting by values of probability in decreasing order\n",
        "  return_list = []\n",
        "  for r in y_pred:\n",
        "    return_list.append(labels [ r[0]]) #Contains labels (tags) for highest probability\n",
        "  return return_list\n",
        "def get_response(intents_list, intents_json):\n",
        "  if len(intents_list) == 0:\n",
        "    result = \"Scusami! Non ho capito!\"\n",
        "  else:\n",
        "    tag = intents_list[0]\n",
        "    list_of_intents = intents_json[\"intents\"]\n",
        "  for i in list_of_intents:\n",
        "    if i[\"tag\"] == tag:\n",
        "      result = random.choice(i[\"responses\"])\n",
        "      break\n",
        "  return result"
      ],
      "metadata": {
        "id": "hGB7FTTAQvKI"
      },
      "execution_count": null,
      "outputs": []
    },
    {
      "cell_type": "code",
      "source": [
        "#8 Interacting with the chatbot\n",
        "print(\"Scrivi 'esci', se non vuoi chattare con il nostro ChatBot.\")\n",
        "while True:\n",
        "  message = input(\"\")\n",
        "  if message == \"esci\":\n",
        "    break\n",
        "  intents=pred_class(message, words, classes) \n",
        "  result = get_response(intents, data)"
      ],
      "metadata": {
        "id": "LRhtkVmLSLzL"
      },
      "execution_count": null,
      "outputs": []
    },
    {
      "cell_type": "markdown",
      "source": [
        "---\n",
        "# MATT_AI_BOT"
      ],
      "metadata": {
        "id": "TY7LP-j36HYz"
      }
    },
    {
      "cell_type": "markdown",
      "source": [
        "https://www.upgrad.com/blog/how-to-make-chatbot-in-python/"
      ],
      "metadata": {
        "id": "olWAJCgCfOL1"
      }
    },
    {
      "cell_type": "code",
      "source": [
        "#Mounting the Google Drive\n",
        "from google.colab import drive\n",
        "drive.mount('/content/drive')\n",
        "data_root='/content/drive/My Drive/project'\n",
        "#Please upload the files in your drive and change the path to it accordingly.\n",
        "!pip install chatterbot==1.0.4\n",
        "!pip install chatterbot_corpus\n",
        "# !pip install git+git://github.com/gunthercox/ChatterBot.git@master\n",
        "# !pip install --upgrade chatterbot_corpus\n",
        "# !pip install --upgrade chatterbot\n",
        "from chatterbot import ChatBot\n",
        "from chatterbot.trainers import ListTrainer\n",
        "\n",
        "!pip install googletrans==3.1.0a0\n",
        "import googletrans\n",
        "from googletrans import Translator\n",
        "from chatterbot.trainers import ChatterBotCorpusTrainer "
      ],
      "metadata": {
        "id": "oR1wWG_yfMZy",
        "colab": {
          "base_uri": "https://localhost:8080/"
        },
        "outputId": "07337874-d607-491f-fcd4-ebdde8f51728"
      },
      "execution_count": null,
      "outputs": [
        {
          "output_type": "stream",
          "name": "stdout",
          "text": [
            "Drive already mounted at /content/drive; to attempt to forcibly remount, call drive.mount(\"/content/drive\", force_remount=True).\n",
            "Looking in indexes: https://pypi.org/simple, https://us-python.pkg.dev/colab-wheels/public/simple/\n",
            "Requirement already satisfied: chatterbot==1.0.4 in /usr/local/lib/python3.7/dist-packages (1.0.4)\n",
            "Requirement already satisfied: pymongo<4.0,>=3.3 in /usr/local/lib/python3.7/dist-packages (from chatterbot==1.0.4) (3.12.3)\n",
            "Requirement already satisfied: sqlalchemy<1.3,>=1.2 in /usr/local/lib/python3.7/dist-packages (from chatterbot==1.0.4) (1.2.19)\n",
            "Requirement already satisfied: mathparse<0.2,>=0.1 in /usr/local/lib/python3.7/dist-packages (from chatterbot==1.0.4) (0.1.2)\n",
            "Requirement already satisfied: python-dateutil<2.8,>=2.7 in /usr/local/lib/python3.7/dist-packages (from chatterbot==1.0.4) (2.7.5)\n",
            "Requirement already satisfied: nltk<4.0,>=3.2 in /usr/local/lib/python3.7/dist-packages (from chatterbot==1.0.4) (3.7)\n",
            "Requirement already satisfied: pint>=0.8.1 in /usr/local/lib/python3.7/dist-packages (from chatterbot==1.0.4) (0.18)\n",
            "Requirement already satisfied: chatterbot-corpus<1.3,>=1.2 in /usr/local/lib/python3.7/dist-packages (from chatterbot==1.0.4) (1.2.0)\n",
            "Requirement already satisfied: PyYAML<4.0,>=3.12 in /usr/local/lib/python3.7/dist-packages (from chatterbot-corpus<1.3,>=1.2->chatterbot==1.0.4) (3.13)\n",
            "Requirement already satisfied: tqdm in /usr/local/lib/python3.7/dist-packages (from nltk<4.0,>=3.2->chatterbot==1.0.4) (4.64.1)\n",
            "Requirement already satisfied: joblib in /usr/local/lib/python3.7/dist-packages (from nltk<4.0,>=3.2->chatterbot==1.0.4) (1.2.0)\n",
            "Requirement already satisfied: click in /usr/local/lib/python3.7/dist-packages (from nltk<4.0,>=3.2->chatterbot==1.0.4) (7.1.2)\n",
            "Requirement already satisfied: regex>=2021.8.3 in /usr/local/lib/python3.7/dist-packages (from nltk<4.0,>=3.2->chatterbot==1.0.4) (2022.6.2)\n",
            "Requirement already satisfied: packaging in /usr/local/lib/python3.7/dist-packages (from pint>=0.8.1->chatterbot==1.0.4) (21.3)\n",
            "Requirement already satisfied: importlib-metadata in /usr/local/lib/python3.7/dist-packages (from pint>=0.8.1->chatterbot==1.0.4) (5.0.0)\n",
            "Requirement already satisfied: six>=1.5 in /usr/local/lib/python3.7/dist-packages (from python-dateutil<2.8,>=2.7->chatterbot==1.0.4) (1.15.0)\n",
            "Requirement already satisfied: zipp>=0.5 in /usr/local/lib/python3.7/dist-packages (from importlib-metadata->pint>=0.8.1->chatterbot==1.0.4) (3.9.0)\n",
            "Requirement already satisfied: typing-extensions>=3.6.4 in /usr/local/lib/python3.7/dist-packages (from importlib-metadata->pint>=0.8.1->chatterbot==1.0.4) (4.1.1)\n",
            "Requirement already satisfied: pyparsing!=3.0.5,>=2.0.2 in /usr/local/lib/python3.7/dist-packages (from packaging->pint>=0.8.1->chatterbot==1.0.4) (3.0.9)\n",
            "Looking in indexes: https://pypi.org/simple, https://us-python.pkg.dev/colab-wheels/public/simple/\n",
            "Requirement already satisfied: chatterbot_corpus in /usr/local/lib/python3.7/dist-packages (1.2.0)\n",
            "Requirement already satisfied: PyYAML<4.0,>=3.12 in /usr/local/lib/python3.7/dist-packages (from chatterbot_corpus) (3.13)\n",
            "Looking in indexes: https://pypi.org/simple, https://us-python.pkg.dev/colab-wheels/public/simple/\n",
            "Requirement already satisfied: googletrans==3.1.0a0 in /usr/local/lib/python3.7/dist-packages (3.1.0a0)\n",
            "Requirement already satisfied: httpx==0.13.3 in /usr/local/lib/python3.7/dist-packages (from googletrans==3.1.0a0) (0.13.3)\n",
            "Requirement already satisfied: chardet==3.* in /usr/local/lib/python3.7/dist-packages (from httpx==0.13.3->googletrans==3.1.0a0) (3.0.4)\n",
            "Requirement already satisfied: certifi in /usr/local/lib/python3.7/dist-packages (from httpx==0.13.3->googletrans==3.1.0a0) (2022.9.24)\n",
            "Requirement already satisfied: rfc3986<2,>=1.3 in /usr/local/lib/python3.7/dist-packages (from httpx==0.13.3->googletrans==3.1.0a0) (1.5.0)\n",
            "Requirement already satisfied: hstspreload in /usr/local/lib/python3.7/dist-packages (from httpx==0.13.3->googletrans==3.1.0a0) (2022.10.1)\n",
            "Requirement already satisfied: sniffio in /usr/local/lib/python3.7/dist-packages (from httpx==0.13.3->googletrans==3.1.0a0) (1.3.0)\n",
            "Requirement already satisfied: httpcore==0.9.* in /usr/local/lib/python3.7/dist-packages (from httpx==0.13.3->googletrans==3.1.0a0) (0.9.1)\n",
            "Requirement already satisfied: idna==2.* in /usr/local/lib/python3.7/dist-packages (from httpx==0.13.3->googletrans==3.1.0a0) (2.10)\n",
            "Requirement already satisfied: h11<0.10,>=0.8 in /usr/local/lib/python3.7/dist-packages (from httpcore==0.9.*->httpx==0.13.3->googletrans==3.1.0a0) (0.9.0)\n",
            "Requirement already satisfied: h2==3.* in /usr/local/lib/python3.7/dist-packages (from httpcore==0.9.*->httpx==0.13.3->googletrans==3.1.0a0) (3.2.0)\n",
            "Requirement already satisfied: hpack<4,>=3.0 in /usr/local/lib/python3.7/dist-packages (from h2==3.*->httpcore==0.9.*->httpx==0.13.3->googletrans==3.1.0a0) (3.0.0)\n",
            "Requirement already satisfied: hyperframe<6,>=5.2.0 in /usr/local/lib/python3.7/dist-packages (from h2==3.*->httpcore==0.9.*->httpx==0.13.3->googletrans==3.1.0a0) (5.2.0)\n"
          ]
        }
      ]
    },
    {
      "cell_type": "code",
      "source": [
        "my_bot = ChatBot(name='MATT_AI', read_only=True, logic_adapters= ['chatterbot.logic.MathematicalEvaluation', 'chatterbot.logic.BestMatch'])"
      ],
      "metadata": {
        "colab": {
          "base_uri": "https://localhost:8080/"
        },
        "id": "29qV2HPkw2FW",
        "outputId": "2e0962a7-5438-41c1-daf3-9231aee257fd"
      },
      "execution_count": null,
      "outputs": [
        {
          "output_type": "stream",
          "name": "stderr",
          "text": [
            "[nltk_data] Downloading package averaged_perceptron_tagger to\n",
            "[nltk_data]     /root/nltk_data...\n",
            "[nltk_data]   Package averaged_perceptron_tagger is already up-to-\n",
            "[nltk_data]       date!\n",
            "[nltk_data] Downloading package punkt to /root/nltk_data...\n",
            "[nltk_data]   Package punkt is already up-to-date!\n",
            "[nltk_data] Downloading package stopwords to /root/nltk_data...\n",
            "[nltk_data]   Package stopwords is already up-to-date!\n"
          ]
        }
      ]
    },
    {
      "cell_type": "code",
      "source": [
        "# small_talk= ['hi there!',\n",
        "# 'hi!', 'how do you do?',\n",
        "# 'how are you?',\n",
        "# 'i\\'m cool.',\n",
        "# 'fine, you?',\n",
        "# 'always cool.',\n",
        "# 'i\\'m ok',\n",
        "# 'glad to hear that.',\n",
        "# 'i\\'m fine',\n",
        "# 'glad to hear that.',\n",
        "# 'I feel awesome',\n",
        "# 'excellent, glad to hear that.', 'not so good',\n",
        "# 'sorry to hear that.',\n",
        "# 'what is your name?',\n",
        "# 'i am pybot. ask me a math question, please.']\n",
        "# math_talk_1 = ['pythagorean theorem', 'a squared plus b squared equals c squared.']\n",
        "# math_talk_2 = ['law of cosines',\n",
        "# 'c**2 = a**2 + b**2 - 2 * a *b*cos(gamma)']\n",
        "\n",
        "# list_trainer = ListTrainer(my_bot) \n",
        "# for item in (small_talk, math_talk_1, math_talk_2): \n",
        "#   list_trainer.train(item)\n",
        "\n",
        "# print(my_bot.get_response(\"hi\"))\n",
        "# print(my_bot.get_response(\"i feel awesome today\"))\n",
        "# print(my_bot.get_response(\"what's your name?\"))\n",
        "# print(my_bot.get_response(\"show me the pythagorean theorem\"))\n",
        "# print(my_bot.get_response(\"do you know the law of cosines?\"))"
      ],
      "metadata": {
        "id": "OSuHrIxwxEwU"
      },
      "execution_count": null,
      "outputs": []
    },
    {
      "cell_type": "code",
      "source": [
        "def risposta(message,MATT_AI_bot):\n",
        "  trans_quest=translator.translate(str(message),dest='en',src='it').text\n",
        "  resp=MATT_AI_bot.get_response(trans_quest)\n",
        "  trans_resp=translator.translate(str(resp),dest='it',src='en').text\n",
        "  print(trans_resp)\n",
        "\n",
        "def MATT_AI_BOT(MATT_AI_bot):\n",
        "  print(\"Scrivi 'esci', se non vuoi chattare con il nostro ChatBot.\")\n",
        "  while True:\n",
        "    message = input(\"\")\n",
        "    if message == \"esci\":\n",
        "      break\n",
        "    risposta(message,MATT_AI_bot)"
      ],
      "metadata": {
        "id": "Z6aYMnuF0RpG"
      },
      "execution_count": null,
      "outputs": []
    },
    {
      "cell_type": "code",
      "source": [
        "corpus_trainer = ChatterBotCorpusTrainer (my_bot) \n",
        "corpus_trainer.train('chatterbot.corpus.english')\n",
        "\n",
        "translator = Translator()\n",
        "translator.translate('Hi',dest='it',src='en').text\n",
        "\n",
        "MATT_AI_bot=corpus_trainer.chatbot"
      ],
      "metadata": {
        "colab": {
          "base_uri": "https://localhost:8080/"
        },
        "id": "CWR5qk6202tB",
        "outputId": "e09f238a-745b-4c20-c653-69a6c64dfd0a"
      },
      "execution_count": null,
      "outputs": [
        {
          "output_type": "stream",
          "name": "stdout",
          "text": [
            "Training ai.yml: [####################] 100%\n",
            "Training botprofile.yml: [####################] 100%\n",
            "Training computers.yml: [####################] 100%\n",
            "Training conversations.yml: [####################] 100%\n",
            "Training emotion.yml: [####################] 100%\n",
            "Training food.yml: [####################] 100%\n",
            "Training gossip.yml: [####################] 100%\n",
            "Training greetings.yml: [####################] 100%\n",
            "Training health.yml: [####################] 100%\n",
            "Training history.yml: [####################] 100%\n",
            "Training humor.yml: [####################] 100%\n",
            "Training literature.yml: [####################] 100%\n",
            "Training money.yml: [####################] 100%\n",
            "Training movies.yml: [####################] 100%\n",
            "Training politics.yml: [####################] 100%\n",
            "Training psychology.yml: [####################] 100%\n",
            "Training science.yml: [####################] 100%\n",
            "Training sports.yml: [####################] 100%\n",
            "Training trivia.yml: [####################] 100%\n"
          ]
        }
      ]
    },
    {
      "cell_type": "code",
      "source": [
        "MATT_AI_BOT(MATT_AI_bot)"
      ],
      "metadata": {
        "id": "i1qv4I5921ZL"
      },
      "execution_count": null,
      "outputs": []
    }
  ]
}