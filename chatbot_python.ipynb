{
  "nbformat": 4,
  "nbformat_minor": 0,
  "metadata": {
    "colab": {
      "provenance": [],
      "authorship_tag": "ABX9TyOhcNG0oeUfnRh7kjMoX6Gu",
      "include_colab_link": true
    },
    "kernelspec": {
      "name": "python3",
      "display_name": "Python 3"
    },
    "language_info": {
      "name": "python"
    }
  },
  "cells": [
    {
      "cell_type": "markdown",
      "metadata": {
        "id": "view-in-github",
        "colab_type": "text"
      },
      "source": [
        "<a href=\"https://colab.research.google.com/github/MattiaGatto/chatbot-MATT_AI_BOT/blob/main/chatbot_python.ipynb\" target=\"_parent\"><img src=\"https://colab.research.google.com/assets/colab-badge.svg\" alt=\"Open In Colab\"/></a>"
      ]
    },
    {
      "cell_type": "markdown",
      "source": [
        "# LIBRERIE NECESSARIE ALL'UTILIZZO"
      ],
      "metadata": {
        "id": "u4R4asWUMlP6"
      }
    },
    {
      "cell_type": "code",
      "source": [
        "!pip install chatterbot==1.0.4\n",
        "!pip install chatterbot_corpus\n",
        "!pip install googletrans==3.1.0a0"
      ],
      "metadata": {
        "colab": {
          "base_uri": "https://localhost:8080/"
        },
        "id": "lTc8x_a9DKT2",
        "outputId": "25477e6e-eb8e-40b0-f175-9e3bd4af9055"
      },
      "execution_count": 1,
      "outputs": [
        {
          "output_type": "stream",
          "name": "stdout",
          "text": [
            "Looking in indexes: https://pypi.org/simple, https://us-python.pkg.dev/colab-wheels/public/simple/\n",
            "Requirement already satisfied: chatterbot==1.0.4 in /usr/local/lib/python3.7/dist-packages (1.0.4)\n",
            "Requirement already satisfied: mathparse<0.2,>=0.1 in /usr/local/lib/python3.7/dist-packages (from chatterbot==1.0.4) (0.1.2)\n",
            "Requirement already satisfied: pint>=0.8.1 in /usr/local/lib/python3.7/dist-packages (from chatterbot==1.0.4) (0.18)\n",
            "Requirement already satisfied: python-dateutil<2.8,>=2.7 in /usr/local/lib/python3.7/dist-packages (from chatterbot==1.0.4) (2.7.5)\n",
            "Requirement already satisfied: pymongo<4.0,>=3.3 in /usr/local/lib/python3.7/dist-packages (from chatterbot==1.0.4) (3.12.3)\n",
            "Requirement already satisfied: sqlalchemy<1.3,>=1.2 in /usr/local/lib/python3.7/dist-packages (from chatterbot==1.0.4) (1.2.19)\n",
            "Requirement already satisfied: chatterbot-corpus<1.3,>=1.2 in /usr/local/lib/python3.7/dist-packages (from chatterbot==1.0.4) (1.2.0)\n",
            "Requirement already satisfied: nltk<4.0,>=3.2 in /usr/local/lib/python3.7/dist-packages (from chatterbot==1.0.4) (3.7)\n",
            "Requirement already satisfied: PyYAML<4.0,>=3.12 in /usr/local/lib/python3.7/dist-packages (from chatterbot-corpus<1.3,>=1.2->chatterbot==1.0.4) (3.13)\n",
            "Requirement already satisfied: regex>=2021.8.3 in /usr/local/lib/python3.7/dist-packages (from nltk<4.0,>=3.2->chatterbot==1.0.4) (2022.6.2)\n",
            "Requirement already satisfied: tqdm in /usr/local/lib/python3.7/dist-packages (from nltk<4.0,>=3.2->chatterbot==1.0.4) (4.64.1)\n",
            "Requirement already satisfied: joblib in /usr/local/lib/python3.7/dist-packages (from nltk<4.0,>=3.2->chatterbot==1.0.4) (1.2.0)\n",
            "Requirement already satisfied: click in /usr/local/lib/python3.7/dist-packages (from nltk<4.0,>=3.2->chatterbot==1.0.4) (7.1.2)\n",
            "Requirement already satisfied: importlib-metadata in /usr/local/lib/python3.7/dist-packages (from pint>=0.8.1->chatterbot==1.0.4) (5.0.0)\n",
            "Requirement already satisfied: packaging in /usr/local/lib/python3.7/dist-packages (from pint>=0.8.1->chatterbot==1.0.4) (21.3)\n",
            "Requirement already satisfied: six>=1.5 in /usr/local/lib/python3.7/dist-packages (from python-dateutil<2.8,>=2.7->chatterbot==1.0.4) (1.15.0)\n",
            "Requirement already satisfied: zipp>=0.5 in /usr/local/lib/python3.7/dist-packages (from importlib-metadata->pint>=0.8.1->chatterbot==1.0.4) (3.9.0)\n",
            "Requirement already satisfied: typing-extensions>=3.6.4 in /usr/local/lib/python3.7/dist-packages (from importlib-metadata->pint>=0.8.1->chatterbot==1.0.4) (4.1.1)\n",
            "Requirement already satisfied: pyparsing!=3.0.5,>=2.0.2 in /usr/local/lib/python3.7/dist-packages (from packaging->pint>=0.8.1->chatterbot==1.0.4) (3.0.9)\n",
            "Looking in indexes: https://pypi.org/simple, https://us-python.pkg.dev/colab-wheels/public/simple/\n",
            "Requirement already satisfied: chatterbot_corpus in /usr/local/lib/python3.7/dist-packages (1.2.0)\n",
            "Requirement already satisfied: PyYAML<4.0,>=3.12 in /usr/local/lib/python3.7/dist-packages (from chatterbot_corpus) (3.13)\n",
            "Looking in indexes: https://pypi.org/simple, https://us-python.pkg.dev/colab-wheels/public/simple/\n",
            "Requirement already satisfied: googletrans==3.1.0a0 in /usr/local/lib/python3.7/dist-packages (3.1.0a0)\n",
            "Requirement already satisfied: httpx==0.13.3 in /usr/local/lib/python3.7/dist-packages (from googletrans==3.1.0a0) (0.13.3)\n",
            "Requirement already satisfied: sniffio in /usr/local/lib/python3.7/dist-packages (from httpx==0.13.3->googletrans==3.1.0a0) (1.3.0)\n",
            "Requirement already satisfied: idna==2.* in /usr/local/lib/python3.7/dist-packages (from httpx==0.13.3->googletrans==3.1.0a0) (2.10)\n",
            "Requirement already satisfied: rfc3986<2,>=1.3 in /usr/local/lib/python3.7/dist-packages (from httpx==0.13.3->googletrans==3.1.0a0) (1.5.0)\n",
            "Requirement already satisfied: httpcore==0.9.* in /usr/local/lib/python3.7/dist-packages (from httpx==0.13.3->googletrans==3.1.0a0) (0.9.1)\n",
            "Requirement already satisfied: chardet==3.* in /usr/local/lib/python3.7/dist-packages (from httpx==0.13.3->googletrans==3.1.0a0) (3.0.4)\n",
            "Requirement already satisfied: certifi in /usr/local/lib/python3.7/dist-packages (from httpx==0.13.3->googletrans==3.1.0a0) (2022.9.24)\n",
            "Requirement already satisfied: hstspreload in /usr/local/lib/python3.7/dist-packages (from httpx==0.13.3->googletrans==3.1.0a0) (2022.10.1)\n",
            "Requirement already satisfied: h2==3.* in /usr/local/lib/python3.7/dist-packages (from httpcore==0.9.*->httpx==0.13.3->googletrans==3.1.0a0) (3.2.0)\n",
            "Requirement already satisfied: h11<0.10,>=0.8 in /usr/local/lib/python3.7/dist-packages (from httpcore==0.9.*->httpx==0.13.3->googletrans==3.1.0a0) (0.9.0)\n",
            "Requirement already satisfied: hpack<4,>=3.0 in /usr/local/lib/python3.7/dist-packages (from h2==3.*->httpcore==0.9.*->httpx==0.13.3->googletrans==3.1.0a0) (3.0.0)\n",
            "Requirement already satisfied: hyperframe<6,>=5.2.0 in /usr/local/lib/python3.7/dist-packages (from h2==3.*->httpcore==0.9.*->httpx==0.13.3->googletrans==3.1.0a0) (5.2.0)\n"
          ]
        }
      ]
    },
    {
      "cell_type": "code",
      "source": [
        "#Mounting the Google Drive\n",
        "from google.colab import drive\n",
        "drive.mount('/content/drive')\n",
        "data_root='/content/drive/My Drive/project'\n",
        "\n",
        "#Importing Relevant Libraries\n",
        "import json\n",
        "import string\n",
        "import random\n",
        "import time\n",
        "\n",
        "time.clock = time.time\n",
        "\n",
        "import chatterbot\n",
        "from chatterbot import ChatBot\n",
        "from chatterbot.trainers import ListTrainer\n",
        "\n",
        "import googletrans\n",
        "from googletrans import Translator\n",
        "from chatterbot.trainers import ChatterBotCorpusTrainer"
      ],
      "metadata": {
        "colab": {
          "base_uri": "https://localhost:8080/"
        },
        "id": "hYK1t5v8LHB_",
        "outputId": "7f0bba6b-61e4-4a2d-bc08-0a5022493e0c"
      },
      "execution_count": 2,
      "outputs": [
        {
          "output_type": "stream",
          "name": "stdout",
          "text": [
            "Drive already mounted at /content/drive; to attempt to forcibly remount, call drive.mount(\"/content/drive\", force_remount=True).\n"
          ]
        }
      ]
    },
    {
      "cell_type": "markdown",
      "source": [
        "---\n",
        "# MATT_AI_BOT"
      ],
      "metadata": {
        "id": "TY7LP-j36HYz"
      }
    },
    {
      "cell_type": "markdown",
      "source": [
        "https://www.upgrad.com/blog/how-to-make-chatbot-in-python/"
      ],
      "metadata": {
        "id": "olWAJCgCfOL1"
      }
    },
    {
      "cell_type": "code",
      "source": [
        "def MATT_AI_ChatBot():\n",
        "  \n",
        "  my_bot = ChatBot(name='MATT_AI', read_only=True, logic_adapters=[\n",
        "                 'chatterbot.logic.MathematicalEvaluation', 'chatterbot.logic.BestMatch'])\n",
        "  corpus_trainer = ChatterBotCorpusTrainer(my_bot)\n",
        "  corpus_trainer.train('chatterbot.corpus.english')\n",
        "  # translator.translate('Hi', dest='it', src='en').text\n",
        "\n",
        "  MATT_AI_bot = corpus_trainer.chatbot\n",
        "  return MATT_AI_bot"
      ],
      "metadata": {
        "id": "29qV2HPkw2FW"
      },
      "execution_count": 3,
      "outputs": []
    },
    {
      "cell_type": "code",
      "source": [
        "question_answers=[\n",
        "      [\n",
        "        ['how old are you?','how old are you'],\n",
        "        \n",
        "        ['I was born in 2022, October 14th, do a calculation yourself']\n",
        "      ],\n",
        "      [\n",
        "        ['who are you?','who are you','tell me who you are'],\n",
        "        \n",
        "        ['I am an artificial intelligence, developed by my father Mattia Gatto!']\n",
        "      ], \n",
        "      [\n",
        "        ['hi','hello', 'bye-bye', 'bye','hi!','hello!', 'bye-bye!', 'bye!'],\n",
        "        \n",
        "        ['Hi','Hello', 'Bye-Bye', 'Bye'\n",
        "        'Hi,I am an artificial intelligence, developed by my father Mattia Gatto!']\n",
        "      ],\n",
        "      [\n",
        "        ['how are you?','how are you'],\n",
        "        \n",
        "        ['I am good.',\n",
        "        'That is good to hear.']\n",
        "      ],\n",
        "      [\n",
        "        ['thank you','thank you!'],\n",
        "        \n",
        "        ['You are welcome.']\n",
        "      ]\n",
        "    ]\n"
      ],
      "metadata": {
        "id": "UCCHLnPgHkJ9"
      },
      "execution_count": 4,
      "outputs": []
    },
    {
      "cell_type": "code",
      "source": [
        "def risposta(message, MATT_AI_bot,translator):\n",
        "    translator = Translator()\n",
        "    try:\n",
        "      trans_quest = translator.translate(str(message.strip()), dest='en', src='it').text\n",
        "      question_answers_bool=False\n",
        "      for i in range (len(question_answers)):\n",
        "        if (trans_quest.lower() in question_answers[i][0]):\n",
        "          question_answers_bool=True\n",
        "          resp = question_answers[i][1][random.randint(0, len(question_answers[i][1])-1)]\n",
        "      if question_answers_bool==False:\n",
        "        resp = MATT_AI_bot.get_response(trans_quest)\n",
        "      trans_resp = translator.translate(str(resp), dest='it', src='en').text\n",
        "    except:\n",
        "      trans_resp='👍'\n",
        "    \n",
        "    print(trans_resp)\n",
        "    return str(trans_resp)\n",
        "\n",
        "\n",
        "def MATT_AI_BOT(MATT_AI_bot):\n",
        "    print(\"Scrivi 'esci', se non vuoi chattare con il nostro ChatBot.\")\n",
        "    while True:\n",
        "        message = input(\"\")\n",
        "        if message == \"esci\":\n",
        "            break\n",
        "        risposta(message, MATT_AI_bot,translator)"
      ],
      "metadata": {
        "id": "Z6aYMnuF0RpG"
      },
      "execution_count": 5,
      "outputs": []
    },
    {
      "cell_type": "code",
      "source": [
        "translator = Translator()"
      ],
      "metadata": {
        "id": "CWR5qk6202tB"
      },
      "execution_count": 6,
      "outputs": []
    },
    {
      "cell_type": "code",
      "source": [
        "MATT_AI_Bot=MATT_AI_ChatBot()"
      ],
      "metadata": {
        "colab": {
          "base_uri": "https://localhost:8080/"
        },
        "id": "mKILhqNfIN6O",
        "outputId": "d6a14959-7bb3-44fd-be38-eaeb7a3c4bea"
      },
      "execution_count": 7,
      "outputs": [
        {
          "output_type": "stream",
          "name": "stdout",
          "text": [
            "\rTraining ai.yml: [                    ] 1%"
          ]
        },
        {
          "output_type": "stream",
          "name": "stderr",
          "text": [
            "[nltk_data] Downloading package averaged_perceptron_tagger to\n",
            "[nltk_data]     /root/nltk_data...\n",
            "[nltk_data]   Package averaged_perceptron_tagger is already up-to-\n",
            "[nltk_data]       date!\n",
            "[nltk_data] Downloading package punkt to /root/nltk_data...\n",
            "[nltk_data]   Package punkt is already up-to-date!\n",
            "[nltk_data] Downloading package stopwords to /root/nltk_data...\n",
            "[nltk_data]   Package stopwords is already up-to-date!\n"
          ]
        },
        {
          "output_type": "stream",
          "name": "stdout",
          "text": [
            "Training ai.yml: [####################] 100%\n",
            "Training botprofile.yml: [####################] 100%\n",
            "Training computers.yml: [####################] 100%\n",
            "Training conversations.yml: [####################] 100%\n",
            "Training emotion.yml: [####################] 100%\n",
            "Training food.yml: [####################] 100%\n",
            "Training gossip.yml: [####################] 100%\n",
            "Training greetings.yml: [####################] 100%\n",
            "Training health.yml: [####################] 100%\n",
            "Training history.yml: [####################] 100%\n",
            "Training humor.yml: [####################] 100%\n",
            "Training literature.yml: [####################] 100%\n",
            "Training money.yml: [####################] 100%\n",
            "Training movies.yml: [####################] 100%\n",
            "Training politics.yml: [####################] 100%\n",
            "Training psychology.yml: [####################] 100%\n",
            "Training science.yml: [####################] 100%\n",
            "Training sports.yml: [####################] 100%\n",
            "Training trivia.yml: [####################] 100%\n"
          ]
        }
      ]
    },
    {
      "cell_type": "code",
      "source": [
        "MATT_AI_BOT(MATT_AI_Bot)"
      ],
      "metadata": {
        "id": "i1qv4I5921ZL",
        "colab": {
          "base_uri": "https://localhost:8080/"
        },
        "outputId": "ae36d19c-108e-430e-dfb7-176de6442821"
      },
      "execution_count": 8,
      "outputs": [
        {
          "name": "stdout",
          "output_type": "stream",
          "text": [
            "Scrivi 'esci', se non vuoi chattare con il nostro ChatBot.\n",
            "c\n",
            "Ti stai vantando\n",
            "cà\n",
            "chimica\n",
            "esci\n"
          ]
        }
      ]
    },
    {
      "cell_type": "code",
      "source": [],
      "metadata": {
        "id": "7BwHQXRgJuz0"
      },
      "execution_count": 8,
      "outputs": []
    }
  ]
}